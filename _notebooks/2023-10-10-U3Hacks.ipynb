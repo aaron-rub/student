{
 "cells": [
  {
   "cell_type": "markdown",
   "metadata": {},
   "source": [
    "---\n",
    "layout: post\n",
    "title: U3 Hacks - Colin Weis\n",
    "comments: true\n",
    "courses: { csa: {week: 7} }\n",
    "type: hacks\n",
    "---"
   ]
  },
  {
   "cell_type": "markdown",
   "metadata": {},
   "source": [
    "### Weird questions\n",
    "1. !(true)&&(false) = ? what in boolean values?\n",
    "- !(false)\n",
    "- true\n",
    "2. not ((((true and not (false)) ^ false) ^ true) && false) (remember PEMDASNAO!)\n",
    "- not ((((true and true) ^ false) ^ true) && false)\n",
    "- not (((true ^ false) ^ true) && false)\n",
    "- not ((true ^ true) && false)\n",
    "- not (false && false)\n",
    "- not (false)\n",
    "- true\n",
    "3. Prove the following: !A * !(B + !C) = !A * (!B * !C)\n",
    "- According to De Morgan's Law the second statement is the first statement rewritten\n",
    "4. 420 && 66 (Hint, convert to binary, then perform the operation)\n",
    "- 110100100 && 1000010\n",
    "- false\n",
    "   1. If you got this one, try 89 OR 42\n",
    "   - 1011001 or 101010\n",
    "   - false or false\n",
    "   - false"
   ]
  },
  {
   "cell_type": "markdown",
   "metadata": {},
   "source": [
    "Now that you know what boolean expressions are and how to write them, as well as several comparison methods, your task is to write a class that uses either the compareTo or comparator and compare. Then create two instances of these classes and demonstrate using if statements. \n",
    "\n",
    "\n",
    "\n",
    "\n",
    "BONUS: Create a program that checks if a year is a leap year or not.\n",
    "\n",
    "Here is how the method should work: \n",
    "\n",
    "(1) Prompt the user to input any year that they would like <br>\n",
    "(2) Determine if the year is a leap year or not <br>\n",
    "(3) Print the necessary dialogue (ex. [year] is/is not a leap year) AND return the value of any boolean(s) used\n"
   ]
  },
  {
   "cell_type": "code",
   "execution_count": 5,
   "metadata": {
    "vscode": {
     "languageId": "java"
    }
   },
   "outputs": [],
   "source": [
    "public class CSAStudent implements Comparable<CSAStudent> {\n",
    "    private String name;\n",
    "    private double gpa;\n",
    "\n",
    "    public CSAStudent(String name, double gpa) {\n",
    "        this.name = name;\n",
    "        this.gpa = gpa;\n",
    "    }\n",
    "\n",
    "    // Getters\n",
    "    public String getName() {\n",
    "        return name;\n",
    "    }\n",
    "\n",
    "    public double getGpa() {\n",
    "        return gpa;\n",
    "    }\n",
    "\n",
    "    // Override the compareTo\n",
    "    public int compareTo(CSAStudent other) {\n",
    "        if (this.gpa < other.gpa) {\n",
    "            return -1;\n",
    "        } else if (this.gpa > other.gpa) {\n",
    "            return 1;\n",
    "        } else {\n",
    "            return 0;\n",
    "        }\n",
    "    }\n",
    "}\n"
   ]
  },
  {
   "cell_type": "code",
   "execution_count": 6,
   "metadata": {
    "vscode": {
     "languageId": "java"
    }
   },
   "outputs": [
    {
     "name": "stdout",
     "output_type": "stream",
     "text": [
      "fred as a higher gpa than bob\n"
     ]
    }
   ],
   "source": [
    "CSAStudent fred = new CSAStudent(\"Fred\", 3.8);\n",
    "CSAStudent bob = new CSAStudent(\"Bob\", 3.6);\n",
    "\n",
    "// Compare them using the compareTo method\n",
    "int result = fred.compareTo(bob);\n",
    "\n",
    "// Display the result using if statements\n",
    "if (result < 0) {\n",
    "    System.out.println(\" fred has a lower gpa than bob\");\n",
    "} else if (result > 0) {\n",
    "    System.out.println(\"fred as a higher gpa than bob\");\n",
    "} else {\n",
    "    System.out.println(\"they have the same gpa\");\n",
    "}"
   ]
  },
  {
   "cell_type": "markdown",
   "metadata": {},
   "source": [
    "## Extra"
   ]
  },
  {
   "cell_type": "code",
   "execution_count": 8,
   "metadata": {
    "vscode": {
     "languageId": "java"
    }
   },
   "outputs": [],
   "source": [
    "import java.util.Scanner;\n",
    "\n",
    "public static boolean isLeapYear(int year) {\n",
    "    return (year % 4 == 0 && year % 100 != 0) || (year % 400 == 0);\n",
    "}\n",
    "\n",
    "public static void main(String[] args) {\n",
    "\n",
    "// Getting input\n",
    "Scanner sc = new Scanner(System.in);\n",
    "\n",
    "System.out.print(\"Enter year: \");\n",
    "int year = sc.nextInt();\n",
    "\n",
    "boolean result = isLeapYear(year);\n",
    "if (result) {\n",
    "    System.out.println(year + \" is a leap year.\");\n",
    "} else {\n",
    "    System.out.println(year + \" is not a leap year.\");\n",
    "}\n",
    "\n",
    "sc.close();\n",
    "}\n"
   ]
  }
 ],
 "metadata": {
  "kernelspec": {
   "display_name": "Java",
   "language": "java",
   "name": "java"
  },
  "language_info": {
   "codemirror_mode": "java",
   "file_extension": ".jshell",
   "mimetype": "text/x-java-source",
   "name": "Java",
   "pygments_lexer": "java",
   "version": "20.0.2+9-78"
  },
  "orig_nbformat": 4
 },
 "nbformat": 4,
 "nbformat_minor": 2
}
