{
 "cells": [
  {
   "cell_type": "markdown",
   "metadata": {},
   "source": [
    "---\n",
    "## Object Classes\n",
    "toc: true\n",
    "layout: post\n",
    "title: Object classes\n",
    "description: Object classes\n",
    "categories: []\n",
    "type: ccc\n",
    "---"
   ]
  },
  {
   "cell_type": "markdown",
   "metadata": {},
   "source": [
    "### Common types of java objects\n",
    "\n",
    "#### Java Objects\n",
    "An object in Java is a basic unit of Object-Oriented Programming and represents real-life entities. Objects are the instances of a class that are created to use the attributes and methods of a class.  A typical Java program creates many objects, which as you know, interact by invoking methods. An object consists of : \n",
    "\n",
    "1. State: It is represented by attributes of an object. It also reflects the properties of an object.\n",
    "2. Behavior: It is represented by the methods of an object. It also reflects the response of an object with other objects.\n",
    "3. Identity: It gives a unique name to an object and enables one object to interact with other objects.\n",
    "\n"
   ]
  },
  {
   "cell_type": "markdown",
   "metadata": {},
   "source": [
    "(put image here)"
   ]
  },
  {
   "cell_type": "markdown",
   "metadata": {},
   "source": [
    "### Declaring Objects \n",
    "\n",
    "When an object of a class is created, the class is said to be instantiated. All the instances share the attributes and the behavior of the class. But the values of those attributes, i.e. the state are unique for each object. A single class may have any number of instances.\n",
    "\n",
    "As we declare variables like (type name;). This notifies the compiler that we will use the name to refer to data whose type is type. With a primitive variable, this declaration also reserves the proper amount of memory for the variable. So for reference variables , the type must be strictly a concrete class name. In general, we can’t create objects of an abstract class or an interface.\n",
    "\n",
    "### Initializing a Java Object \n",
    "The new operator instantiates a class by allocating memory for a new object and returning a reference to that memory. The new operator also invokes the class constructor. "
   ]
  },
  {
   "cell_type": "code",
   "execution_count": 2,
   "metadata": {
    "vscode": {
     "languageId": "java"
    }
   },
   "outputs": [],
   "source": [
    "// Class Declaration\n",
    "\n",
    "public class Dog {\n",
    "\t// Instance Variables\n",
    "\tString name;\n",
    "\tString breed;\n",
    "\tint age;\n",
    "\tString color;\n",
    "\n",
    "\t// Constructor Declaration of Class\n",
    "\tpublic Dog(String name, String breed, int age,\n",
    "\t\t\tString color)\n",
    "\t{\n",
    "\t\tthis.name = name;\n",
    "\t\tthis.breed = breed;\n",
    "\t\tthis.age = age;\n",
    "\t\tthis.color = color;\n",
    "\t}\n",
    "\n",
    "\t// method 1\n",
    "\tpublic String getName() { return name; }\n",
    "\n",
    "\t// method 2\n",
    "\tpublic String getBreed() { return breed; }\n",
    "\n",
    "\t// method 3\n",
    "\tpublic int getAge() { return age; }\n",
    "\n",
    "\t// method 4\n",
    "\tpublic String getColor() { return color; }\n",
    "\n",
    "\t@Override public String toString()\n",
    "\t{\n",
    "\t\treturn (\"Hi my name is \" + this.getName()\n",
    "\t\t\t\t+ \".\\nMy breed,age and color are \"\n",
    "\t\t\t\t+ this.getBreed() + \",\" + this.getAge()\n",
    "\t\t\t\t+ \",\" + this.getColor());\n",
    "\t}\n",
    "\n",
    "\tpublic static void main(String[] args)\n",
    "\t{\n",
    "\t\tDog tuffy\n",
    "\t\t\t= new Dog(\"tuffy\", \"papillon\", 5, \"white\");\n",
    "\t\tSystem.out.println(tuffy.toString());\n",
    "\t}\n",
    "}\n"
   ]
  },
  {
   "cell_type": "markdown",
   "metadata": {},
   "source": [
    "#### Initialize by using method/function:"
   ]
  },
  {
   "cell_type": "code",
   "execution_count": 3,
   "metadata": {
    "vscode": {
     "languageId": "java"
    }
   },
   "outputs": [],
   "source": [
    "public class GFG {\n",
    "\t// sw=software\n",
    "\tstatic String sw_name;\n",
    "\tstatic float sw_price;\n",
    "\n",
    "\tstatic void set(String n, float p)\n",
    "\t{\n",
    "\t\tsw_name = n;\n",
    "\t\tsw_price = p;\n",
    "\t}\n",
    "\n",
    "\tstatic void get()\n",
    "\t{\n",
    "\t\tSystem.out.println(\"Software name is: \" + sw_name);\n",
    "\t\tSystem.out.println(\"Software price is: \"\n",
    "\t\t\t\t\t\t+ sw_price);\n",
    "\t}\n",
    "\n",
    "\tpublic static void main(String args[])\n",
    "\t{\n",
    "\t\tGFG.set(\"Visual studio\", 0.0f);\n",
    "\t\tGFG.get();\n",
    "\t}\n",
    "}\n"
   ]
  },
  {
   "cell_type": "code",
   "execution_count": null,
   "metadata": {},
   "outputs": [],
   "source": []
  }
 ],
 "metadata": {
  "kernelspec": {
   "display_name": "Java",
   "language": "java",
   "name": "java"
  },
  "language_info": {
   "codemirror_mode": "java",
   "file_extension": ".jshell",
   "mimetype": "text/x-java-source",
   "name": "Java",
   "pygments_lexer": "java",
   "version": "11.0.20+8-post-Ubuntu-1ubuntu120.04"
  }
 },
 "nbformat": 4,
 "nbformat_minor": 2
}
