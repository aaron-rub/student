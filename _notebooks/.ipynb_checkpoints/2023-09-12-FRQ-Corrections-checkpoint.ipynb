{
 "cells": [
  {
   "cell_type": "markdown",
   "metadata": {},
   "source": [
    "---\n",
    "toc: true\n",
    "layout: post\n",
    "title: FRQ Corrections\n",
    "description: FRQ Corrections\n",
    "courses: { csse: {week: 4}, csa: {week: 4}, csa: {week: 4} }\n",
    "categories: []\n",
    "type: ccc\n",
    "---"
   ]
  },
  {
   "cell_type": "markdown",
   "metadata": {},
   "source": [
    "This question involves manipulating a two-dimensional array of integers. You will write two static methods of the ArrayResizer class, which is shown below."
   ]
  },
  {
   "cell_type": "code",
   "execution_count": null,
   "metadata": {
    "vscode": {
     "languageId": "java"
    }
   },
   "outputs": [],
   "source": [
    "public class ArrayResizer { \n",
    "// /** Returns true if and only if every value in row r of array2D is non-zero. * \n",
    "//  * Precondition: r is a valid row index in array2D. * \n",
    "//  * Postcondition: array2D is unchanged. */ \n",
    "public static boolean isNonZeroRow(int[][] array2D, int r)\n",
    "// { /* to be implemented in part (a) */ }\n",
    " /** Returns the number of rows in array2D that contain all non-zero values. \n",
    "  * Postcondition: array2D is unchanged. \n",
    "    */ \n",
    "public static int numNonZeroRows(int[][] array2D)\n",
    " { /* implementation not shown */ }\n",
    "  /** Returns a new, possibly smaller, two-dimensional array that contains only rows \n",
    "   * * from array2D with no zeros, as described in part (b). \n",
    "   * * Precondition: array2D contains at least one column and at least one row with no zeros. \n",
    "   * * Postcondition: array2D is unchanged. */ \n",
    "public static int[][] resize(int[][] array2D) \n",
    "{ /* to be implemented in part (b) */ } \n",
    "}"
   ]
  },
  {
   "cell_type": "markdown",
   "metadata": {},
   "source": [
    "### Number 4 Question A\n",
    "\n",
    "A) Write the method isNonZeroRow, which returns true if and only if all elements in row r of a two-dimensional array array2D are not equal to zero. \n",
    "- For example, consider the following statement, which initializes a two-dimensional array\n",
    "\n",
    "![FRQ1](FRQ1.PNG)\n",
    "\n",
    "- Answer to question A:"
   ]
  },
  {
   "cell_type": "code",
   "execution_count": 4,
   "metadata": {
    "vscode": {
     "languageId": "java"
    }
   },
   "outputs": [
    {
     "ename": "SyntaxError",
     "evalue": "invalid syntax (4034932028.py, line 1)",
     "output_type": "error",
     "traceback": [
      "\u001b[0;36m  Input \u001b[0;32mIn [4]\u001b[0;36m\u001b[0m\n\u001b[0;31m    public static void main(String[] args) {\u001b[0m\n\u001b[0m           ^\u001b[0m\n\u001b[0;31mSyntaxError\u001b[0m\u001b[0;31m:\u001b[0m invalid syntax\n"
     ]
    }
   ],
   "source": [
    "public static void main(String[] args) {\n",
    "    int[][] arr = {\n",
    "        {2, 1, 0},\n",
    "        {1, 3, 2},\n",
    "        {0, 0, 0},\n",
    "        {4, 5, 6}\n",
    "    };\n",
    "\n",
    "    for (int i = 0; i < arr.length; i++) {\n",
    "        boolean isNonZero = isNonZeroRow(arr, i);\n",
    "        System.out.println(\"Row \" + i + \" is non-zero: \" + isNonZero);\n",
    "    }\n",
    "}\n"
   ]
  },
  {
   "cell_type": "code",
   "execution_count": null,
   "metadata": {},
   "outputs": [],
   "source": []
  }
 ],
 "metadata": {
  "kernelspec": {
   "display_name": "Python 3 (ipykernel)",
   "language": "python",
   "name": "python3"
  },
  "language_info": {
   "codemirror_mode": {
    "name": "ipython",
    "version": 3
   },
   "file_extension": ".py",
   "mimetype": "text/x-python",
   "name": "python",
   "nbconvert_exporter": "python",
   "pygments_lexer": "ipython3",
   "version": "3.9.12"
  }
 },
 "nbformat": 4,
 "nbformat_minor": 2
}
