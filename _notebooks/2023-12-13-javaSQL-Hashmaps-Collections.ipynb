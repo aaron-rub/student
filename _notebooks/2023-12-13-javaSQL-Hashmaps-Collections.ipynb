{
 "cells": [
  {
   "cell_type": "markdown",
   "metadata": {},
   "source": [
    "## Lesson: Collections in Java and SQL\n",
    "\n",
    "### Introduction to Collections in Java\n",
    "In Java, the `Collection` interface is a member of the Java Collections Framework and extends the `Iterable` interface. It includes methods for basic operations (such as `add`, `remove`, `clear`), bulk operations (such as `containsAll`, `addAll`, `retainAll`, `removeAll`), and array operations (such as `toArray`).\n"
   ]
  },
  {
   "cell_type": "code",
   "execution_count": null,
   "metadata": {
    "vscode": {
     "languageId": "java"
    }
   },
   "outputs": [],
   "source": [
    "import java.util.*;\n",
    "\n",
    "public class Main {\n",
    "    public static void main(String[] args) {\n",
    "        // Creating an ArrayList\n",
    "        List<String> list = new ArrayList<String>();\n",
    "        // Adding elements to the list\n",
    "        list.add(\"Apple\");\n",
    "        list.add(\"Banana\");\n",
    "        list.add(\"Cherry\");\n",
    "        System.out.println(\"List: \" + list);\n",
    "    }\n",
    "}"
   ]
  },
  {
   "cell_type": "markdown",
   "metadata": {},
   "source": [
    "### Definition of Collections\n",
    "In the context of SQL, collections refer to a group of related data items that can be treated as a whole. Common types of collections include arrays, lists, and sets."
   ]
  },
  {
   "cell_type": "markdown",
   "metadata": {},
   "source": [
    "### Using Collections with SQL\n",
    "When working with databases in Java, you can use the `java.sql`` package. This package provides classes for connecting to a database and executing SQL queries."
   ]
  },
  {
   "cell_type": "code",
   "execution_count": null,
   "metadata": {
    "vscode": {
     "languageId": "java"
    }
   },
   "outputs": [],
   "source": [
    "import java.sql.*;\n",
    "import java.util.*;\n",
    "\n",
    "public class Main {\n",
    "    public static void main(String[] args) {\n",
    "        String url = \"jdbc:mysql://localhost:3306/mydatabase\";\n",
    "        String user = \"root\";\n",
    "        String password = \"password\";\n",
    "\n",
    "        try {\n",
    "            Connection conn = DriverManager.getConnection(url, user, password);\n",
    "            Statement stmt = conn.createStatement();\n",
    "            ResultSet rs = stmt.executeQuery(\"SELECT * FROM mytable\");\n",
    "\n",
    "            // Creating a list to store the results\n",
    "            List<String> results = new ArrayList<String>();\n",
    "            while (rs.next()) {\n",
    "                results.add(rs.getString(\"mycolumn\"));\n",
    "            }\n",
    "            System.out.println(\"Results: \" + results);\n",
    "        } catch (SQLException e) {\n",
    "            e.printStackTrace();\n",
    "        }\n",
    "    }\n",
    "}"
   ]
  },
  {
   "cell_type": "markdown",
   "metadata": {},
   "source": [
    "In this code, we’re connecting to a MySQL database and executing a SQL query. The results of the query are then stored in an ArrayList"
   ]
  },
  {
   "cell_type": "markdown",
   "metadata": {},
   "source": [
    "### `Purpose of Collections`\n",
    "Collections are useful in a database because they allow you to store multiple values in a single column. This can be beneficial in scenarios where you have a one-to-many relationship. For example, a single product could have multiple colors, sizes, or other attributes.\n",
    "\n",
    "#### `Important terminology`\n",
    "- Elements: Individual items within a collection.\n",
    "- Indexes: The position of an element within a collection.\n",
    "- Scalar: A single value, as opposed to a collection which can hold multiple values."
   ]
  }
 ],
 "metadata": {
  "language_info": {
   "name": "python"
  }
 },
 "nbformat": 4,
 "nbformat_minor": 2
}
