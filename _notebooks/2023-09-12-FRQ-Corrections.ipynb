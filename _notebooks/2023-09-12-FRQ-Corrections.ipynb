{
 "cells": [
  {
   "cell_type": "markdown",
   "metadata": {},
   "source": [
    "---\n",
    "toc: true\n",
    "layout: post\n",
    "title: FRQ Corrections\n",
    "description: FRQ Corrections\n",
    "courses: { csse: {week: 4}, csa: {week: 4}, csa: {week: 4} }\n",
    "categories: []\n",
    "type: ccc\n",
    "---"
   ]
  },
  {
   "cell_type": "markdown",
   "metadata": {},
   "source": [
    "This question involves manipulating a two-dimensional array of integers. You will write two static methods of the ArrayResizer class, which is shown below."
   ]
  },
  {
   "cell_type": "code",
   "execution_count": null,
   "metadata": {
    "vscode": {
     "languageId": "java"
    }
   },
   "outputs": [],
   "source": [
    "public class ArrayResizer { \n",
    "// /** Returns true if and only if every value in row r of array2D is non-zero. * \n",
    "//  * Precondition: r is a valid row index in array2D. * \n",
    "//  * Postcondition: array2D is unchanged. */ \n",
    "public static boolean isNonZeroRow(int[][] array2D, int r)\n",
    "// { /* to be implemented in part (a) */ }\n",
    " /** Returns the number of rows in array2D that contain all non-zero values. \n",
    "  * Postcondition: array2D is unchanged. \n",
    "    */ \n",
    "public static int numNonZeroRows(int[][] array2D)\n",
    " { /* implementation not shown */ }\n",
    "  /** Returns a new, possibly smaller, two-dimensional array that contains only rows \n",
    "   * * from array2D with no zeros, as described in part (b). \n",
    "   * * Precondition: array2D contains at least one column and at least one row with no zeros. \n",
    "   * * Postcondition: array2D is unchanged. */ \n",
    "public static int[][] resize(int[][] array2D) \n",
    "{ /* to be implemented in part (b) */ } \n",
    "}"
   ]
  },
  {
   "cell_type": "markdown",
   "metadata": {},
   "source": [
    "### Number 4 Question A\n",
    "\n",
    "A) Write the method isNonZeroRow, which returns true if and only if all elements in row r of a two-dimensional array array2D are not equal to zero. \n",
    "- For example, consider the following statement, which initializes a two-dimensional array\n",
    "\n",
    "![FRQ1](FRQ1.PNG)\n",
    "\n",
    "- Answer to question A:"
   ]
  },
  {
   "cell_type": "code",
   "execution_count": 10,
   "metadata": {
    "vscode": {
     "languageId": "java"
    }
   },
   "outputs": [],
   "source": [
    "public class ArrayResizer {\n",
    "\n",
    "    public static boolean isNonZeroRow(int[][] array2D, int r) {\n",
    "        boolean isNonZero = true; // Initialize as true, assuming all elements are non-zero\n",
    "\n",
    "        // Iterate through the elements in row r\n",
    "        for (int i = 0; i < array2D[r].length; i++) {\n",
    "            if (array2D[r][i] == 0) {\n",
    "                // If any element is equal to zero, set isNonZero to false and break the loop\n",
    "                isNonZero = false;\n",
    "                break;\n",
    "            }\n",
    "        }\n",
    "\n",
    "        // Print a message indicating whether the row is non-zero or not\n",
    "        if (isNonZero) {\n",
    "            System.out.println(\"Row \" + r + \" contains all non-zero values.\");\n",
    "        } else {\n",
    "            System.out.println(\"Row \" + r + \" contains at least one zero.\");\n",
    "        }\n",
    "\n",
    "        // Return the boolean value indicating whether the row is non-zero\n",
    "        return isNonZero;\n",
    "    }\n",
    "\n",
    "    public static int numNonZeroRows(int[][] array2D) {\n",
    "        int count = 0;\n",
    "\n",
    "        for (int i = 0; i < array2D.length; i++) {\n",
    "            if (isNonZeroRow(array2D, i)) {\n",
    "                count++;\n",
    "            }\n",
    "        }\n",
    "\n",
    "        return count;\n",
    "    }\n",
    "\n",
    "    public static int[][] resize(int[][] array2D) {\n",
    "        // Implementation for resizing goes here\n",
    "        return null; // Placeholder\n",
    "    }\n",
    "\n",
    "    public static void main(String[] args) {\n",
    "        int[][] arr = {\n",
    "            {2, 1, 0},\n",
    "            {1, 3, 2},\n",
    "            {0, 0, 0},\n",
    "            {4, 5, 6}\n",
    "        };\n",
    "\n",
    "        for (int i = 0; i < arr.length; i++) {\n",
    "            isNonZeroRow(arr, i);\n",
    "        }\n",
    "\n",
    "        int numNonZero = numNonZeroRows(arr);\n",
    "        System.out.println(\"Number of rows with all non-zero values: \" + numNonZero);\n",
    "    }\n",
    "}\n"
   ]
  }
 ],
 "metadata": {
  "kernelspec": {
   "display_name": "Java",
   "language": "java",
   "name": "java"
  },
  "language_info": {
   "codemirror_mode": "java",
   "file_extension": ".jshell",
   "mimetype": "text/x-java-source",
   "name": "Java",
   "pygments_lexer": "java",
   "version": "11.0.20+8-post-Ubuntu-1ubuntu120.04"
  },
  "orig_nbformat": 4
 },
 "nbformat": 4,
 "nbformat_minor": 2
}
