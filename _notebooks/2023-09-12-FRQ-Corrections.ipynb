{
 "cells": [
  {
   "cell_type": "markdown",
   "metadata": {},
   "source": [
    "---\n",
    "toc: true\n",
    "layout: post\n",
    "title: FRQ Corrections\n",
    "description: FRQ Corrections\n",
    "courses: { csse: {week: 4}, csa: {week: 4}, csa: {week: 4} }\n",
    "categories: []\n",
    "type: ccc\n",
    "---"
   ]
  },
  {
   "cell_type": "markdown",
   "metadata": {},
   "source": [
    "This question involves manipulating a two-dimensional array of integers. You will write two static methods of the ArrayResizer class, which is shown below."
   ]
  },
  {
   "cell_type": "code",
   "execution_count": null,
   "metadata": {
    "vscode": {
     "languageId": "java"
    }
   },
   "outputs": [],
   "source": [
    "public class ArrayResizer { \n",
    "// /** Returns true if and only if every value in row r of array2D is non-zero. * \n",
    "//  * Precondition: r is a valid row index in array2D. * \n",
    "//  * Postcondition: array2D is unchanged. */ \n",
    "public static boolean isNonZeroRow(int[][] array2D, int r)\n",
    "// { /* to be implemented in part (a) */ }\n",
    " /** Returns the number of rows in array2D that contain all non-zero values. \n",
    "  * Postcondition: array2D is unchanged. \n",
    "    */ \n",
    "public static int numNonZeroRows(int[][] array2D)\n",
    " { /* implementation not shown */ }\n",
    "  /** Returns a new, possibly smaller, two-dimensional array that contains only rows \n",
    "   * * from array2D with no zeros, as described in part (b). \n",
    "   * * Precondition: array2D contains at least one column and at least one row with no zeros. \n",
    "   * * Postcondition: array2D is unchanged. */ \n",
    "public static int[][] resize(int[][] array2D) \n",
    "{ /* to be implemented in part (b) */ } \n",
    "}"
   ]
  },
  {
   "cell_type": "markdown",
   "metadata": {},
   "source": [
    "### Number 4 Question A\n",
    "\n",
    "A) Write the method isNonZeroRow, which returns true if and only if all elements in row r of a two-dimensional array array2D are not equal to zero. \n",
    "- For example, consider the following statement, which initializes a two-dimensional array\n",
    "\n",
    "![FRQ1](FRQ1.PNG)\n",
    "\n",
    "- Answer to question A:"
   ]
  },
  {
   "cell_type": "code",
   "execution_count": 13,
   "metadata": {
    "vscode": {
     "languageId": "java"
    }
   },
   "outputs": [],
   "source": [
    "public static boolean isNonZeroRow(int[][] array2D, int r) {\n",
    "    // This method checks if a specific row in a 2D array contains any zero element.\n",
    "    \n",
    "    // Iterate through the elements in row r\n",
    "    for (int i = 0; i < array2D[r].length; i++) {\n",
    "        // Check if the current element is equal to zero\n",
    "        if (array2D[r][i] == 0) {\n",
    "            // If any element is equal to zero, return false\n",
    "            return false;\n",
    "        }\n",
    "    }\n",
    "    \n",
    "    // If the loop completes without finding any zero element, return true\n",
    "    return true;\n",
    "}\n"
   ]
  },
  {
   "cell_type": "markdown",
   "metadata": {},
   "source": [
    "The **isNonZeroRow** method, when given a two-dimensional array **array2D** and a row index **r**, performs the following tasks:\n",
    "\n",
    "- It iterates through the elements in the specified row.\n",
    "- For each element in the row, it checks whether it is equal to zero.\n",
    "- If any element in the row is found to be zero during the iteration, the method immediately returns **false**, indicating that at least one zero is present in the row.\n",
    "- If the loop completes without finding any zero element, the method returns **true**, signifying that all elements in the row are non-zero.\n",
    "- This method adheres to the precondition that **r** is a valid row index and ensures the postcondition that the **array2D** remains unchanged after the operation.\n"
   ]
  },
  {
   "cell_type": "markdown",
   "metadata": {},
   "source": [
    "## Question B\n",
    "Write the method resize, which returns a new two-dimensional array containing only rows from array2D with all non-zero values. The elements in the new array should appear in the same order as the order in which they appeared in the original array"
   ]
  },
  {
   "cell_type": "code",
   "execution_count": 2,
   "metadata": {
    "vscode": {
     "languageId": "java"
    }
   },
   "outputs": [
    {
     "name": "stdout",
     "output_type": "stream",
     "text": [
      "[1, 3, 2]\n",
      "[4, 5, 6]\n",
      "Done\n"
     ]
    }
   ],
   "source": [
    "// Import necessary classes for working with arrays.\n",
    "import java.util.Arrays;\n",
    "\n",
    "// Define a class named 'ArrayResizer' for our operations on 2D arrays.\n",
    "public class ArrayResizer {\n",
    "\n",
    "    // Helper method to check if a row contains all non-zero values.\n",
    "    public static boolean isNonZeroRow(int[][] array2D, int r) {\n",
    "        for (int i = 0; i < array2D[r].length; i++) {\n",
    "            if (array2D[r][i] == 0) {\n",
    "                return false;\n",
    "            }\n",
    "        }\n",
    "        return true;\n",
    "    }\n",
    "\n",
    "    // Helper method to count rows with all non-zero values.\n",
    "    public static int numNonZeroRows(int[][] array2D) {\n",
    "        int count = 0;\n",
    "        for (int i = 0; i < array2D.length; i++) {\n",
    "            if (isNonZeroRow(array2D, i)) {\n",
    "                count++;\n",
    "            }\n",
    "        }\n",
    "        return count;\n",
    "    }\n",
    "\n",
    "    // Create a new array with non-zero rows.\n",
    "    public static int[][] resize(int[][] array2D) {\n",
    "        int numNonZeroRows = numNonZeroRows(array2D);\n",
    "        int[][] result = new int[numNonZeroRows][];\n",
    "        int resultIndex = 0;\n",
    "        for (int i = 0; i < array2D.length; i++) {\n",
    "            if (isNonZeroRow(array2D, i)) {\n",
    "                result[resultIndex] = Arrays.copyOf(array2D[i], array2D[i].length);\n",
    "                resultIndex++;\n",
    "            }\n",
    "        }\n",
    "        return result;\n",
    "    }\n",
    "\n",
    "    // The main method where the program begins.\n",
    "    public static void main(String[] args) {\n",
    "        int[][] arr = {\n",
    "            {2, 1, 0},\n",
    "            {1, 3, 2},\n",
    "            {0, 0, 0},\n",
    "            {4, 5, 6}\n",
    "        };\n",
    "\n",
    "        int[][] smaller = resize(arr);\n",
    "\n",
    "        // Print the contents of the 'smaller' array.\n",
    "        for (int[] row : smaller) {\n",
    "            System.out.println(Arrays.toString(row));\n",
    "        }\n",
    "        \n",
    "        // Indicate program completion.\n",
    "        System.out.println(\"Done\");\n",
    "    }\n",
    "}\n",
    "\n",
    "String[] words = {\"main\"};\n",
    "ArrayResizer.main(words);"
   ]
  },
  {
   "cell_type": "markdown",
   "metadata": {},
   "source": [
    "The **ArrayResizer** class contains several methods for working with two-dimensional arrays in Java:\n",
    "\n",
    "- The `isNonZeroRow` method checks if all elements in a specified row are non-zero and returns true if they are, or false if there is at least one zero.\n",
    "- The `numNonZeroRows` method counts the number of rows in a two-dimensional array that contain all non-zero values.\n",
    "- The `resize` method creates a new array, smaller in size, containing only the rows from the original array with all non-zero values. It ensures the elements appear in the same order as in the original array.\n",
    "\n",
    "A `main` method demonstrates the usage of the `resize` method by initializing a sample two-dimensional array `arr`, calling `resize` to create a new array `smaller`, and then printing the contents of `smaller`. This class provides functionality for handling and resizing arrays based on non-zero values efficiently.\n"
   ]
  },
  {
   "cell_type": "markdown",
   "metadata": {},
   "source": [
    "## Important terms\n",
    "\n",
    "1. **`int[][] array2D`**: A 2D array of integers named \"array2D.\"\n",
    "\n",
    "2. **`isNonZeroRow`**: A method that checks if a specific row in a 2D array contains all non-zero values.\n",
    "\n",
    "3. **`numNonZeroRows`**: A method that counts the number of rows in a 2D array that contain all non-zero values.\n",
    "\n",
    "4. **`result`**: A 2D array used to store rows with all non-zero values.\n",
    "\n",
    "5. **`resultIndex`**: An integer variable used as an index while populating the \"result\" array.\n",
    "\n",
    "6. **`arr`**: A 2D array initialized with integer values.\n",
    "\n",
    "7. **`smaller`**: A 2D array obtained by resizing the \"arr\" array to include only rows with all non-zero values.\n",
    "\n"
   ]
  }
 ],
 "metadata": {
  "kernelspec": {
   "display_name": "Java",
   "language": "java",
   "name": "java"
  },
  "language_info": {
   "codemirror_mode": "java",
   "file_extension": ".jshell",
   "mimetype": "text/x-java-source",
   "name": "Java",
   "pygments_lexer": "java",
   "version": "11.0.20+8-post-Ubuntu-1ubuntu120.04"
  }
 },
 "nbformat": 4,
 "nbformat_minor": 2
}
