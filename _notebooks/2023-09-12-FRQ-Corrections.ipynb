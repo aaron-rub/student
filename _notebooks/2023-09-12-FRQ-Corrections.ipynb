{
 "cells": [
  {
   "cell_type": "markdown",
   "metadata": {},
   "source": [
    "---\n",
    "toc: true\n",
    "layout: post\n",
    "title: FRQ Corrections\n",
    "description: FRQ Corrections\n",
    "courses: { csse: {week: 4}, csa: {week: 4}, csa: {week: 4} }\n",
    "categories: []\n",
    "type: ccc\n",
    "---"
   ]
  },
  {
   "cell_type": "code",
   "execution_count": null,
   "metadata": {
    "vscode": {
     "languageId": "java"
    }
   },
   "outputs": [],
   "source": [
    "public class ArrayResizer { \n",
    "/** Returns true if and only if every value in row r of array2D is non-zero. * \n",
    " * Precondition: r is a valid row index in array2D. * \n",
    " * Postcondition: array2D is unchanged. */ \n",
    "public static boolean isNonZeroRow(int[][] array2D, int r) \n",
    "{ /* to be implemented in part (a) */ }\n",
    " /** Returns the number of rows in array2D that contain all non-zero values. \n",
    "  * Postcondition: array2D is unchanged. \n",
    "    */ \n",
    "public static int numNonZeroRows(int[][] array2D)\n",
    " { /* implementation not shown */ }\n",
    "  /** Returns a new, possibly smaller, two-dimensional array that contains only rows \n",
    "   * * from array2D with no zeros, as described in part (b). \n",
    "   * * Precondition: array2D contains at least one column and at least one row with no zeros. \n",
    "   * * Postcondition: array2D is unchanged. */ \n",
    "public static int[][] resize(int[][] array2D) \n",
    "{ /* to be implemented in part (b) */ } \n",
    "}"
   ]
  },
  {
   "cell_type": "markdown",
   "metadata": {},
   "source": [
    "### Number 4 Question A\n",
    "\n",
    "A) Write the method isNonZeroRow, which returns true if and only if all elements in row r of a two-dimensional array array2D are not equal to zero. \n",
    "- For example, consider the following statement, which initializes a two-dimensional array\n",
    "\n",
    "![FRQ](FRQ1.PNG)"
   ]
  }
 ],
 "metadata": {
  "language_info": {
   "name": "python"
  },
  "orig_nbformat": 4
 },
 "nbformat": 4,
 "nbformat_minor": 2
}
