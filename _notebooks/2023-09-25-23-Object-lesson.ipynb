{
 "cells": [
  {
   "cell_type": "markdown",
   "metadata": {},
   "source": [
    "---\n",
    "## U2 Using Objects\n",
    "toc: true\n",
    "layout: post\n",
    "title: Object classes\n",
    "description: Object classes\n",
    "categories: []\n",
    "type: ccc\n",
    "---"
   ]
  },
  {
   "cell_type": "markdown",
   "metadata": {},
   "source": [
    "### Java objects\n",
    "-  In Java, objects are essentially instances of classes. They represent real-world entities or concepts and contain both data and behaviors, facilitating organized and modular software design."
   ]
  },
  {
   "cell_type": "markdown",
   "metadata": {},
   "source": [
    "### Common Types of Java Classes\n",
    "In Java, classes are the fundamental building blocks of Object-Oriented Programming (OOP). They define the structure and behavior of objects, serving as templates or blueprints from which objects are created. Java programs typically consist of multiple classes, each designed to fulfill a specific role. One Java class that you should be familliar with is: \n",
    "\n",
    "\n",
    "1. Utility Classes: Utility classes contain static methods that provide common utility functions. These classes are not meant to be instantiated, and they often involve operations such as mathematical calculations, string manipulation, or date formatting. The Math class is an example of a utility class.\n",
    "    - Java Arrays Class\n",
    "    - Java HashMap Class\n",
    "    - Java LinkedList Class"
   ]
  },
  {
   "cell_type": "code",
   "execution_count": 11,
   "metadata": {
    "vscode": {
     "languageId": "java"
    }
   },
   "outputs": [
    {
     "name": "stdout",
     "output_type": "stream",
     "text": [
      "[1, 2, 5, 5, 6, 9]\n"
     ]
    }
   ],
   "source": [
    "import java.util.Arrays;\n",
    "\n",
    "public class ArraySortExample {\n",
    "    public static void main(String[] args) {\n",
    "        int[] numbers = {5, 2, 9, 1, 5, 6};\n",
    "        Arrays.sort(numbers);\n",
    "        System.out.println(Arrays.toString(numbers));\n",
    "    }\n",
    "}\n",
    "String[] words = {\"main\"};\n",
    "ArraySortExample.main(words);"
   ]
  },
  {
   "cell_type": "markdown",
   "metadata": {},
   "source": [
    "#### Java Objects\n",
    "An object in Java is a basic unit of Object-Oriented Programming and represents real-life entities. `Objects are the instances of a class that are created to use the attributes and methods of a class.`  A typical Java program creates many objects, which as you know, interact by invoking methods. An object consists of : \n",
    "\n",
    "1. State: It is represented by attributes of an object. It also reflects the properties of an object.\n",
    "2. Behavior: It is represented by the methods of an object. It also reflects the response of an object with other objects."
   ]
  },
  {
   "cell_type": "markdown",
   "metadata": {},
   "source": [
    "### Declaring Objects \n",
    "\n",
    "When an object of a class is created, the class is said to be instantiated. All the instances share the attributes and the behavior of the class. But the values of those attributes, i.e. the state are unique for each object. A single class may have any number of instances.\n",
    "\n",
    "As we declare variables like (type name;). This notifies the compiler that we will use the name to refer to data whose type is type. With a primitive variable, this declaration also reserves the proper amount of memory for the variable. So for reference variables , the type must be strictly a concrete class name. In general, we can’t create objects of an abstract class or an interface.\n",
    "\n",
    "### Initializing a Java Object \n",
    "The new operator instantiates a class by allocating memory for a new object and returning a reference to that memory. The new operator also invokes the class constructor. "
   ]
  },
  {
   "cell_type": "code",
   "execution_count": 8,
   "metadata": {
    "vscode": {
     "languageId": "java"
    }
   },
   "outputs": [
    {
     "name": "stdout",
     "output_type": "stream",
     "text": [
      "Bark\n",
      "Bark\n",
      "Bark\n",
      "Bark\n",
      "Bark\n"
     ]
    }
   ],
   "source": [
    "public class Dog {\n",
    "    public String Name; \n",
    "    public int Age;\n",
    "\n",
    "    public void Bark(int times) {\n",
    "        for (int i = 0; i < times; i++) {\n",
    "            System.out.println(\"Bark\"); \n",
    "        }\n",
    "    }\n",
    "\n",
    "    public static void main(String[] args) { \n",
    "        Dog dog = new Dog();\n",
    "\n",
    "        dog.Bark(5);\n",
    "    }\n",
    "}\n",
    "Dog.main(words);\n"
   ]
  },
  {
   "cell_type": "markdown",
   "metadata": {},
   "source": [
    "## Hacks\n",
    "\n",
    "> ### [Quiz](https://docs.google.com/forms/d/e/1FAIpQLScr-jf31aGlkrNUrgu_xyyq29GOfruPDv7_YKKYyWpWqWH_9Q/viewform?usp=sf_link)"
   ]
  }
 ],
 "metadata": {
  "kernelspec": {
   "display_name": "Java",
   "language": "java",
   "name": "java"
  },
  "language_info": {
   "codemirror_mode": "java",
   "file_extension": ".jshell",
   "mimetype": "text/x-java-source",
   "name": "Java",
   "pygments_lexer": "java",
   "version": "11.0.20+8-post-Ubuntu-1ubuntu120.04"
  },
  "orig_nbformat": 4
 },
 "nbformat": 4,
 "nbformat_minor": 2
}
