{
 "cells": [
  {
   "cell_type": "markdown",
   "metadata": {},
   "source": [
    "## Textbook class 2022 FRQ Number 2\n",
    "- subclasses goal to make a class of book \n",
    "\n",
    "## 2D array FRQ\n",
    "- \n",
    "\n",
    "## FRQ 1 2022\n",
    "- method and control structures got game score calculation\n",
    "- \n",
    "\n",
    "## FRQ 2022 array/arraylist\n"
   ]
  },
  {
   "cell_type": "markdown",
   "metadata": {},
   "source": [
    "## Q2 Classes FRQ 2022\n",
    "- Good visuals, that help provide knowledge needed prior to doing the FRQ\n",
    "- Goes over collegeboard review\n",
    "- Provides code comments for readers that explain step by step process of the segment \n",
    "\n",
    "## Q3 FRQ Array/Arraylist\n",
    "- Explain the goal of weather data\n",
    "- Divides code into segments, making it easier to explain and to understand\n",
    "- Using delete to iterate backwards in arraylist and size changes"
   ]
  },
  {
   "cell_type": "code",
   "execution_count": null,
   "metadata": {
    "vscode": {
     "languageId": "java"
    }
   },
   "outputs": [],
   "source": []
  }
 ],
 "metadata": {
  "language_info": {
   "name": "python"
  },
  "orig_nbformat": 4
 },
 "nbformat": 4,
 "nbformat_minor": 2
}
